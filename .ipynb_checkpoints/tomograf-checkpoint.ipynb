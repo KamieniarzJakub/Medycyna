{
 "cells": [
  {
   "cell_type": "code",
   "execution_count": null,
   "id": "ab1e95aa-de79-47d7-8c6c-2b5a7ee0c7ea",
   "metadata": {},
   "outputs": [],
   "source": [
    "pip install opencv-python\n",
    "pip install numpy\n",
    "pip install matplotlib"
   ]
  },
  {
   "cell_type": "code",
   "execution_count": 12,
   "id": "7f4c0043-f1d3-412d-93a2-7d1a6827b312",
   "metadata": {},
   "outputs": [],
   "source": [
    "import os\n",
    "\n",
    "def get_all_names_from_directory(directory_name):\n",
    "    return os.listdir(directory)"
   ]
  },
  {
   "cell_type": "code",
   "execution_count": 13,
   "id": "7724cdd7-2399-43af-8def-9c93fd09a6f0",
   "metadata": {},
   "outputs": [
    {
     "name": "stdout",
     "output_type": "stream",
     "text": [
      "CT_ScoutView-large.jpg\n",
      "CT_ScoutView.jpg\n",
      "Kolo.jpg\n",
      "Kropka.jpg\n",
      "Kwadraty2.jpg\n",
      "Paski2.jpg\n",
      "SADDLE_PE-large.JPG\n",
      "SADDLE_PE.JPG\n",
      "Shepp_logan.jpg\n"
     ]
    }
   ],
   "source": [
    "for filename in get_all_names_from_directory(\"img\"):\n",
    "    print(filename)"
   ]
  },
  {
   "cell_type": "code",
   "execution_count": 10,
   "id": "6580db0e-d55a-4d86-95e0-8f555f06d261",
   "metadata": {},
   "outputs": [
    {
     "name": "stdout",
     "output_type": "stream",
     "text": [
      "[[0 0 0 ... 0 0 0]\n",
      " [0 0 0 ... 0 0 0]\n",
      " [0 0 0 ... 0 0 0]\n",
      " ...\n",
      " [0 0 0 ... 0 0 0]\n",
      " [0 0 0 ... 0 0 0]\n",
      " [0 0 0 ... 0 0 0]]\n"
     ]
    },
    {
     "data": {
      "text/plain": [
       "True"
      ]
     },
     "execution_count": 10,
     "metadata": {},
     "output_type": "execute_result"
    }
   ],
   "source": [
    "import cv2\n",
    "from matplotlib import pyplot as plt\n",
    "\n",
    "img = cv2.imread(\"img/Kolo.jpg\", cv2.IMREAD_GRAYSCALE)\n",
    "\n",
    "print(img)\n",
    "\n",
    "cv2.imwrite(\"output/test.jpg\", img)\n",
    "#cv2.imshow(\"image\", img)"
   ]
  }
 ],
 "metadata": {
  "kernelspec": {
   "display_name": "Python 3 (ipykernel)",
   "language": "python",
   "name": "python3"
  },
  "language_info": {
   "codemirror_mode": {
    "name": "ipython",
    "version": 3
   },
   "file_extension": ".py",
   "mimetype": "text/x-python",
   "name": "python",
   "nbconvert_exporter": "python",
   "pygments_lexer": "ipython3",
   "version": "3.11.9"
  }
 },
 "nbformat": 4,
 "nbformat_minor": 5
}
